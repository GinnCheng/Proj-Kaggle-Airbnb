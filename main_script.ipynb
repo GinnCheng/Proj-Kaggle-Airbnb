{
 "cells": [
  {
   "cell_type": "markdown",
   "id": "4f18e8c8-1f4b-47f1-ab0c-c65c650581ae",
   "metadata": {},
   "source": [
    "# Airbnb data investigation\n",
    "## Seattle Airbnb Open Data\n",
    "> A sneak peek into the Airbnb activity in Seattle, WA, USA\n",
    "### Context\n",
    "> Since 2008, guests and hosts have used Airbnb to travel in a more unique, personalized way. As part of the Airbnb Inside initiative, this dataset describes the listing activity of homestays in Seattle, WA.\n",
    "\n",
    "### Content\n",
    "> The following Airbnb activity is included in this Seattle dataset:\n",
    "\n",
    ">* Listings, including full descriptions and average review score\n",
    ">* Reviews, including unique id for each reviewer and detailed comments\n",
    ">* Calendar, including listing id and the price and availability for that day\n",
    "\n",
    "### Acknowledgement\n",
    "> This dataset is part of Airbnb Inside, and the original source can be found [here](http://insideairbnb.com/get-the-data.html).\n",
    "\n",
    "## Boston Airbnb Open Data\n",
    "> A sneak peek into the Airbnb activity in Boston, MA, USA\n",
    "### Context\n",
    "> Since 2008, guests and hosts have used Airbnb to travel in a more unique, personalized way. As part of the Airbnb Inside initiative, this dataset describes the listing activity of homestays in Boston, MA.\n",
    "\n",
    "### Content\n",
    "> The following Airbnb activity is included in this Boston dataset:\n",
    "\n",
    "> *Listings, including full descriptions and average review score\n",
    "> *Reviews, including unique id for each reviewer and detailed comments\n",
    "> *Calendar, including listing id and the price and availability for that day\n",
    "\n",
    "### Acknowledgement\n",
    "> This dataset is part of Airbnb Inside, and the original source can be found [here](http://insideairbnb.com/get-the-data.html)."
   ]
  },
  {
   "cell_type": "markdown",
   "id": "5af85368-8d1f-401a-948c-a79a8c51d6cb",
   "metadata": {},
   "source": [
    "# Load data"
   ]
  },
  {
   "cell_type": "code",
   "execution_count": 7,
   "id": "fd3aa034-506f-46bd-90fe-b5fe6aea8d6e",
   "metadata": {},
   "outputs": [
    {
     "name": "stdout",
     "output_type": "stream",
     "text": [
      "\u001b[34mBoston Airbnb Open Data\u001b[m\u001b[m/        Dataset of USED CARS.zip\n",
      "Boston Airbnb Open Data.zip     Netflix_movie_and_TV_shows.csv\n",
      "Car Sales.xlsx - car_data.csv   Netflix_movie_and_TV_shows.zip\n",
      "Car sales report.zip            \u001b[34mSeattle_Airbnb\u001b[m\u001b[m/\n",
      "Dataset of USED CARS.csv        Seattle_Airbnb.zip\n"
     ]
    }
   ],
   "source": [
    "# data location\n",
    "%ls ../../Datasets"
   ]
  },
  {
   "cell_type": "code",
   "execution_count": 60,
   "id": "10501cef-f91a-4df0-b809-aeb94fd34eac",
   "metadata": {},
   "outputs": [],
   "source": [
    "# set data location\n",
    "data_dir = '../../Datasets/'\n",
    "boston_dir = data_dir+\"Boston Airbnb Open Data/\"\n",
    "seattle_dir = data_dir+'Seattle_Airbnb/'"
   ]
  },
  {
   "cell_type": "code",
   "execution_count": 75,
   "id": "04c29dcf-408c-44eb-b2cd-f9e34601d4a9",
   "metadata": {},
   "outputs": [],
   "source": [
    "import os\n",
    "# all boston datasets and seattle datasets\n",
    "bs_all,sa_all = [],[]\n",
    "for root,dirs,files in os.walk(boston_dir):\n",
    "    for file in files:\n",
    "        bs_all.append(os.path.join(root,file))\n",
    "for root,dirs,files in os.walk(seattle_dir):\n",
    "    for file in files:\n",
    "        sa_all.append(os.path.join(root,file))"
   ]
  },
  {
   "cell_type": "code",
   "execution_count": 76,
   "id": "3dcecf72-7ad6-4b1d-abf5-659fe35a97d6",
   "metadata": {},
   "outputs": [
    {
     "data": {
      "text/plain": [
       "['../../Datasets/Boston Airbnb Open Data/reviews.csv',\n",
       " '../../Datasets/Boston Airbnb Open Data/listings.csv',\n",
       " '../../Datasets/Boston Airbnb Open Data/calendar.csv']"
      ]
     },
     "execution_count": 76,
     "metadata": {},
     "output_type": "execute_result"
    }
   ],
   "source": [
    "bs_all"
   ]
  },
  {
   "cell_type": "code",
   "execution_count": 77,
   "id": "6341d6b4-08ce-4a40-b881-fb621d0f5d75",
   "metadata": {},
   "outputs": [
    {
     "data": {
      "text/plain": [
       "['../../Datasets/Seattle_Airbnb/reviews.csv',\n",
       " '../../Datasets/Seattle_Airbnb/listings.csv',\n",
       " '../../Datasets/Seattle_Airbnb/calendar.csv']"
      ]
     },
     "execution_count": 77,
     "metadata": {},
     "output_type": "execute_result"
    }
   ],
   "source": [
    "sa_all"
   ]
  },
  {
   "cell_type": "markdown",
   "id": "d69cd71a-24f0-4c50-a00c-e06d463fadd1",
   "metadata": {},
   "source": [
    "> ## Load all datasets"
   ]
  },
  {
   "cell_type": "code",
   "execution_count": 78,
   "id": "e09a2355-669c-4952-adf8-21d6905f0cf2",
   "metadata": {},
   "outputs": [],
   "source": [
    "import pandas as pd\n",
    "import numpy as np"
   ]
  },
  {
   "cell_type": "code",
   "execution_count": 92,
   "id": "6a02ed3a-3545-44b4-b4e0-c583170f69d3",
   "metadata": {},
   "outputs": [
    {
     "data": {
      "text/html": [
       "<div>\n",
       "<style scoped>\n",
       "    .dataframe tbody tr th:only-of-type {\n",
       "        vertical-align: middle;\n",
       "    }\n",
       "\n",
       "    .dataframe tbody tr th {\n",
       "        vertical-align: top;\n",
       "    }\n",
       "\n",
       "    .dataframe thead th {\n",
       "        text-align: right;\n",
       "    }\n",
       "</style>\n",
       "<table border=\"1\" class=\"dataframe\">\n",
       "  <thead>\n",
       "    <tr style=\"text-align: right;\">\n",
       "      <th></th>\n",
       "      <th>listing_id</th>\n",
       "      <th>id</th>\n",
       "      <th>date</th>\n",
       "      <th>reviewer_id</th>\n",
       "      <th>reviewer_name</th>\n",
       "      <th>comments</th>\n",
       "    </tr>\n",
       "  </thead>\n",
       "  <tbody>\n",
       "    <tr>\n",
       "      <th>0</th>\n",
       "      <td>1178162</td>\n",
       "      <td>4724140</td>\n",
       "      <td>2013-05-21</td>\n",
       "      <td>4298113</td>\n",
       "      <td>Olivier</td>\n",
       "      <td>My stay at islam's place was really cool! Good...</td>\n",
       "    </tr>\n",
       "    <tr>\n",
       "      <th>1</th>\n",
       "      <td>1178162</td>\n",
       "      <td>4869189</td>\n",
       "      <td>2013-05-29</td>\n",
       "      <td>6452964</td>\n",
       "      <td>Charlotte</td>\n",
       "      <td>Great location for both airport and city - gre...</td>\n",
       "    </tr>\n",
       "    <tr>\n",
       "      <th>2</th>\n",
       "      <td>1178162</td>\n",
       "      <td>5003196</td>\n",
       "      <td>2013-06-06</td>\n",
       "      <td>6449554</td>\n",
       "      <td>Sebastian</td>\n",
       "      <td>We really enjoyed our stay at Islams house. Fr...</td>\n",
       "    </tr>\n",
       "    <tr>\n",
       "      <th>3</th>\n",
       "      <td>1178162</td>\n",
       "      <td>5150351</td>\n",
       "      <td>2013-06-15</td>\n",
       "      <td>2215611</td>\n",
       "      <td>Marine</td>\n",
       "      <td>The room was nice and clean and so were the co...</td>\n",
       "    </tr>\n",
       "    <tr>\n",
       "      <th>4</th>\n",
       "      <td>1178162</td>\n",
       "      <td>5171140</td>\n",
       "      <td>2013-06-16</td>\n",
       "      <td>6848427</td>\n",
       "      <td>Andrew</td>\n",
       "      <td>Great location. Just 5 mins walk from the Airp...</td>\n",
       "    </tr>\n",
       "  </tbody>\n",
       "</table>\n",
       "</div>"
      ],
      "text/plain": [
       "   listing_id       id        date  reviewer_id reviewer_name  \\\n",
       "0     1178162  4724140  2013-05-21      4298113       Olivier   \n",
       "1     1178162  4869189  2013-05-29      6452964     Charlotte   \n",
       "2     1178162  5003196  2013-06-06      6449554     Sebastian   \n",
       "3     1178162  5150351  2013-06-15      2215611        Marine   \n",
       "4     1178162  5171140  2013-06-16      6848427        Andrew   \n",
       "\n",
       "                                            comments  \n",
       "0  My stay at islam's place was really cool! Good...  \n",
       "1  Great location for both airport and city - gre...  \n",
       "2  We really enjoyed our stay at Islams house. Fr...  \n",
       "3  The room was nice and clean and so were the co...  \n",
       "4  Great location. Just 5 mins walk from the Airp...  "
      ]
     },
     "execution_count": 92,
     "metadata": {},
     "output_type": "execute_result"
    }
   ],
   "source": [
    "tmp_df = pd.read_csv(bs_all[0])\n",
    "tmp_df.head()"
   ]
  },
  {
   "cell_type": "code",
   "execution_count": 93,
   "id": "dbc5d5c3-fb4d-43a3-acf3-3ef682e3bb60",
   "metadata": {},
   "outputs": [
    {
     "name": "stdout",
     "output_type": "stream",
     "text": [
      "listing_id : [ 1178162  7246272 13658522 ...  6425405 13101775  7462268]\n",
      "id : [ 4724140  4869189  5003196 ... 85797088 97264637 98550693]\n",
      "date : ['2013-05-21' '2013-05-29' '2013-06-06' ... '2011-08-15' '2012-09-15'\n",
      " '2012-11-21']\n",
      "reviewer_id : [ 4298113  6452964  6449554 ... 77129134 15799803 90128094]\n",
      "reviewer_name : ['Olivier' 'Charlotte' 'Sebastian' ... 'Faustino' 'Kriti' 'Vid']\n",
      "comments : [\"My stay at islam's place was really cool! Good location, 5min away from subway, then 10min from downtown. The room was nice, all place was clean. Islam managed pretty well our arrival, even if it was last minute ;) i do recommand this place to any airbnb user :)\"\n",
      " 'Great location for both airport and city - great amenities in the house: Plus Islam was always very helpful even though he was away'\n",
      " \"We really enjoyed our stay at Islams house. From the outside the house didn't look so inviting but the inside was very nice! Even though Islam himself was not there everything was prepared for our arrival. The airport T Station is only a 5-10 min walk away. The only little issue was that all the people in the house had to share one bathroom. But it was not really a problem and it worked out fine. We would recommend Islams place for a stay in Boston. \"\n",
      " ...\n",
      " 'The room was very clean as were the bathrooms and kitchen. The bed was also very comfortable. Bathrooms featured shampoo and body was for public use which was a plus along with good wifi and air conditioning. The neighborhood was safe and populated with many students. Conveniently located about a mile from Harvard and Boston University. Many great places too eat are also a 10~ minute walk from the room. Joe was also very helpful in returning an earring to me that I had left in the room. Would definitely stay again.'\n",
      " \"Staying in Lower Allston at Joe and Nancy's place was fantastic! I am a medical student and was studying at the Massachusetts General Hospital for 6 weeks so it was really important for me to find a place that was clean, private, comfortable, safe and friendly with easy access to Harvard Square/ the red line/ the hospital. Joe's place provided all of this and more! \\r\\n\\r\\nThe room was spacious and clean with air conditioning and a heater. I had easy access to all the facilities I needed including a fully equipped kitchen, laundry facilities and 2 bathrooms. Joe went above and beyond to make sure I had everything I needed and went out and bought an ironing board when I asked if one was available for me to iron my shirts with! All the guests that stayed during my 6 weeks were also respectful and friendly which made my trip even better. \\r\\n\\r\\nThe house is in a pleasant residential area which is quiet at night time but close to all important amenities. The nearest supermarket was only 10 minutes walk away and the number 66 bus route had a stop at the top of the road and had a regular service every 5-10 minutes which took me into Harvard Square within 10 minutes. \\r\\n\\r\\nBetween my excellent hosts and the fantastic location I felt completely at home during my stay and would recommend Joe's place to anyone looking visit Boston without paying the ridiculous price of downtown hotels. It was an absolute pleasure to get to know him and his wife Nancy and I hope they stay in touch in the future. I wish you both all the best! \"\n",
      " \"The room itself and the aprtment were very clean. Joe provided many amenities such as shampoo and towels. Overall I'm very pleased!\"]\n"
     ]
    }
   ],
   "source": [
    "for col in tmp_df.columns:\n",
    "    print(col,':',tmp_df[col].unique())"
   ]
  },
  {
   "cell_type": "code",
   "execution_count": 94,
   "id": "e8ca7081-8d90-426b-9c44-617231ff338b",
   "metadata": {},
   "outputs": [
    {
     "name": "stdout",
     "output_type": "stream",
     "text": [
      "<class 'pandas.core.frame.DataFrame'>\n",
      "RangeIndex: 68275 entries, 0 to 68274\n",
      "Data columns (total 6 columns):\n",
      " #   Column         Non-Null Count  Dtype \n",
      "---  ------         --------------  ----- \n",
      " 0   listing_id     68275 non-null  int64 \n",
      " 1   id             68275 non-null  int64 \n",
      " 2   date           68275 non-null  object\n",
      " 3   reviewer_id    68275 non-null  int64 \n",
      " 4   reviewer_name  68275 non-null  object\n",
      " 5   comments       68222 non-null  object\n",
      "dtypes: int64(3), object(3)\n",
      "memory usage: 3.1+ MB\n"
     ]
    }
   ],
   "source": [
    "tmp_df.info()"
   ]
  },
  {
   "cell_type": "code",
   "execution_count": 95,
   "id": "a5fdb620-ae44-41bf-87c1-9c9359359d52",
   "metadata": {},
   "outputs": [],
   "source": [
    "# since both datasets contain 'reviews','listings', and 'calendar', create a dictionary key\n",
    "dict_keys = ['reviews','listings','calendar']\n",
    "# create dictionary of dataframes for both boston and seattle\n",
    "dict_bs, dict_sa = {}, {}\n",
    "for i,dict_key in enumerate(dict_keys):\n",
    "    dict_bs[dict_key] = pd.read_csv(bs_all[i])\n",
    "    dict_sa[dict_key] = pd.read_csv(sa_all[i])"
   ]
  },
  {
   "cell_type": "markdown",
   "id": "c3c0eb90-3f4c-46d5-8177-68b74862b00d",
   "metadata": {},
   "source": [
    "> ## Wrangle data"
   ]
  },
  {
   "cell_type": "code",
   "execution_count": 122,
   "id": "5e1b1045-fab2-4cf9-8102-9eac85c10e8d",
   "metadata": {},
   "outputs": [
    {
     "data": {
      "text/html": [
       "<div>\n",
       "<style scoped>\n",
       "    .dataframe tbody tr th:only-of-type {\n",
       "        vertical-align: middle;\n",
       "    }\n",
       "\n",
       "    .dataframe tbody tr th {\n",
       "        vertical-align: top;\n",
       "    }\n",
       "\n",
       "    .dataframe thead th {\n",
       "        text-align: right;\n",
       "    }\n",
       "</style>\n",
       "<table border=\"1\" class=\"dataframe\">\n",
       "  <thead>\n",
       "    <tr style=\"text-align: right;\">\n",
       "      <th></th>\n",
       "      <th>listing_id</th>\n",
       "      <th>id</th>\n",
       "      <th>date</th>\n",
       "      <th>reviewer_id</th>\n",
       "      <th>reviewer_name</th>\n",
       "      <th>comments</th>\n",
       "    </tr>\n",
       "  </thead>\n",
       "  <tbody>\n",
       "    <tr>\n",
       "      <th>9537</th>\n",
       "      <td>5078129</td>\n",
       "      <td>35850548</td>\n",
       "      <td>2015-06-22</td>\n",
       "      <td>34541106</td>\n",
       "      <td>Jake</td>\n",
       "      <td>What you get is better than what you see!\\nVer...</td>\n",
       "    </tr>\n",
       "    <tr>\n",
       "      <th>67337</th>\n",
       "      <td>1472532</td>\n",
       "      <td>50757672</td>\n",
       "      <td>2015-10-14</td>\n",
       "      <td>42067880</td>\n",
       "      <td>Fred</td>\n",
       "      <td>We never met Sid but talked with and correspon...</td>\n",
       "    </tr>\n",
       "    <tr>\n",
       "      <th>55302</th>\n",
       "      <td>1107845</td>\n",
       "      <td>18418587</td>\n",
       "      <td>2014-08-26</td>\n",
       "      <td>18235181</td>\n",
       "      <td>Gary</td>\n",
       "      <td>Loved staying in Owens place. A perfect settin...</td>\n",
       "    </tr>\n",
       "    <tr>\n",
       "      <th>11452</th>\n",
       "      <td>2016613</td>\n",
       "      <td>43073659</td>\n",
       "      <td>2015-08-17</td>\n",
       "      <td>25519145</td>\n",
       "      <td>Steven</td>\n",
       "      <td>We had a great experience dealing with the own...</td>\n",
       "    </tr>\n",
       "    <tr>\n",
       "      <th>48091</th>\n",
       "      <td>2978929</td>\n",
       "      <td>13630660</td>\n",
       "      <td>2014-06-01</td>\n",
       "      <td>15692815</td>\n",
       "      <td>Michael</td>\n",
       "      <td>Everything was great; no complaints. Sarah see...</td>\n",
       "    </tr>\n",
       "  </tbody>\n",
       "</table>\n",
       "</div>"
      ],
      "text/plain": [
       "       listing_id        id        date  reviewer_id reviewer_name  \\\n",
       "9537      5078129  35850548  2015-06-22     34541106          Jake   \n",
       "67337     1472532  50757672  2015-10-14     42067880          Fred   \n",
       "55302     1107845  18418587  2014-08-26     18235181          Gary   \n",
       "11452     2016613  43073659  2015-08-17     25519145        Steven   \n",
       "48091     2978929  13630660  2014-06-01     15692815       Michael   \n",
       "\n",
       "                                                comments  \n",
       "9537   What you get is better than what you see!\\nVer...  \n",
       "67337  We never met Sid but talked with and correspon...  \n",
       "55302  Loved staying in Owens place. A perfect settin...  \n",
       "11452  We had a great experience dealing with the own...  \n",
       "48091  Everything was great; no complaints. Sarah see...  "
      ]
     },
     "execution_count": 122,
     "metadata": {},
     "output_type": "execute_result"
    }
   ],
   "source": [
    "dict_sa['reviews'].sample(5)"
   ]
  },
  {
   "cell_type": "code",
   "execution_count": 123,
   "id": "afad614a-762e-4927-8638-c92efb979f13",
   "metadata": {},
   "outputs": [
    {
     "data": {
      "text/html": [
       "<div>\n",
       "<style scoped>\n",
       "    .dataframe tbody tr th:only-of-type {\n",
       "        vertical-align: middle;\n",
       "    }\n",
       "\n",
       "    .dataframe tbody tr th {\n",
       "        vertical-align: top;\n",
       "    }\n",
       "\n",
       "    .dataframe thead th {\n",
       "        text-align: right;\n",
       "    }\n",
       "</style>\n",
       "<table border=\"1\" class=\"dataframe\">\n",
       "  <thead>\n",
       "    <tr style=\"text-align: right;\">\n",
       "      <th></th>\n",
       "      <th>id</th>\n",
       "      <th>listing_url</th>\n",
       "      <th>scrape_id</th>\n",
       "      <th>last_scraped</th>\n",
       "      <th>name</th>\n",
       "      <th>summary</th>\n",
       "      <th>space</th>\n",
       "      <th>description</th>\n",
       "      <th>experiences_offered</th>\n",
       "      <th>neighborhood_overview</th>\n",
       "      <th>...</th>\n",
       "      <th>review_scores_value</th>\n",
       "      <th>requires_license</th>\n",
       "      <th>license</th>\n",
       "      <th>jurisdiction_names</th>\n",
       "      <th>instant_bookable</th>\n",
       "      <th>cancellation_policy</th>\n",
       "      <th>require_guest_profile_picture</th>\n",
       "      <th>require_guest_phone_verification</th>\n",
       "      <th>calculated_host_listings_count</th>\n",
       "      <th>reviews_per_month</th>\n",
       "    </tr>\n",
       "  </thead>\n",
       "  <tbody>\n",
       "    <tr>\n",
       "      <th>2407</th>\n",
       "      <td>7679928</td>\n",
       "      <td>https://www.airbnb.com/rooms/7679928</td>\n",
       "      <td>20160104002432</td>\n",
       "      <td>2016-01-04</td>\n",
       "      <td>Private room with Deck</td>\n",
       "      <td>Cute private bedroom with bathroom next door. ...</td>\n",
       "      <td>Private room with closet space. Great deck wit...</td>\n",
       "      <td>Cute private bedroom with bathroom next door. ...</td>\n",
       "      <td>none</td>\n",
       "      <td>NaN</td>\n",
       "      <td>...</td>\n",
       "      <td>10.0</td>\n",
       "      <td>f</td>\n",
       "      <td>NaN</td>\n",
       "      <td>WASHINGTON</td>\n",
       "      <td>f</td>\n",
       "      <td>flexible</td>\n",
       "      <td>f</td>\n",
       "      <td>f</td>\n",
       "      <td>1</td>\n",
       "      <td>0.60</td>\n",
       "    </tr>\n",
       "    <tr>\n",
       "      <th>2233</th>\n",
       "      <td>8845310</td>\n",
       "      <td>https://www.airbnb.com/rooms/8845310</td>\n",
       "      <td>20160104002432</td>\n",
       "      <td>2016-01-04</td>\n",
       "      <td>Sweet Little House</td>\n",
       "      <td>This 1909 home is full of charm (890sf) is wel...</td>\n",
       "      <td>NaN</td>\n",
       "      <td>This 1909 home is full of charm (890sf) is wel...</td>\n",
       "      <td>none</td>\n",
       "      <td>NaN</td>\n",
       "      <td>...</td>\n",
       "      <td>NaN</td>\n",
       "      <td>f</td>\n",
       "      <td>NaN</td>\n",
       "      <td>WASHINGTON</td>\n",
       "      <td>f</td>\n",
       "      <td>flexible</td>\n",
       "      <td>f</td>\n",
       "      <td>f</td>\n",
       "      <td>1</td>\n",
       "      <td>NaN</td>\n",
       "    </tr>\n",
       "    <tr>\n",
       "      <th>3047</th>\n",
       "      <td>8131762</td>\n",
       "      <td>https://www.airbnb.com/rooms/8131762</td>\n",
       "      <td>20160104002432</td>\n",
       "      <td>2016-01-04</td>\n",
       "      <td>Ground Floor unit on Lake Washingon</td>\n",
       "      <td>We have an apartment in our house, with a bedr...</td>\n",
       "      <td>NaN</td>\n",
       "      <td>We have an apartment in our house, with a bedr...</td>\n",
       "      <td>none</td>\n",
       "      <td>NaN</td>\n",
       "      <td>...</td>\n",
       "      <td>NaN</td>\n",
       "      <td>f</td>\n",
       "      <td>NaN</td>\n",
       "      <td>WASHINGTON</td>\n",
       "      <td>f</td>\n",
       "      <td>flexible</td>\n",
       "      <td>f</td>\n",
       "      <td>f</td>\n",
       "      <td>1</td>\n",
       "      <td>NaN</td>\n",
       "    </tr>\n",
       "    <tr>\n",
       "      <th>1228</th>\n",
       "      <td>7035498</td>\n",
       "      <td>https://www.airbnb.com/rooms/7035498</td>\n",
       "      <td>20160104002432</td>\n",
       "      <td>2016-01-04</td>\n",
       "      <td>Hip Flat - Great dining steps away!</td>\n",
       "      <td>Perfect city-stay local for work or play. With...</td>\n",
       "      <td>Location, location, location! This is the perf...</td>\n",
       "      <td>Perfect city-stay local for work or play. With...</td>\n",
       "      <td>none</td>\n",
       "      <td>The Jewel Box is in a pretty perfect location....</td>\n",
       "      <td>...</td>\n",
       "      <td>9.0</td>\n",
       "      <td>f</td>\n",
       "      <td>NaN</td>\n",
       "      <td>WASHINGTON</td>\n",
       "      <td>f</td>\n",
       "      <td>strict</td>\n",
       "      <td>f</td>\n",
       "      <td>f</td>\n",
       "      <td>2</td>\n",
       "      <td>5.71</td>\n",
       "    </tr>\n",
       "    <tr>\n",
       "      <th>2380</th>\n",
       "      <td>2809796</td>\n",
       "      <td>https://www.airbnb.com/rooms/2809796</td>\n",
       "      <td>20160104002432</td>\n",
       "      <td>2016-01-04</td>\n",
       "      <td>Garden Cottage near beach/downtown</td>\n",
       "      <td>Enjoy this private oasis just minutes from dow...</td>\n",
       "      <td>This bright and airy cottage has everything yo...</td>\n",
       "      <td>Enjoy this private oasis just minutes from dow...</td>\n",
       "      <td>none</td>\n",
       "      <td>NaN</td>\n",
       "      <td>...</td>\n",
       "      <td>10.0</td>\n",
       "      <td>f</td>\n",
       "      <td>NaN</td>\n",
       "      <td>WASHINGTON</td>\n",
       "      <td>t</td>\n",
       "      <td>moderate</td>\n",
       "      <td>f</td>\n",
       "      <td>f</td>\n",
       "      <td>1</td>\n",
       "      <td>2.28</td>\n",
       "    </tr>\n",
       "  </tbody>\n",
       "</table>\n",
       "<p>5 rows × 92 columns</p>\n",
       "</div>"
      ],
      "text/plain": [
       "           id                           listing_url       scrape_id  \\\n",
       "2407  7679928  https://www.airbnb.com/rooms/7679928  20160104002432   \n",
       "2233  8845310  https://www.airbnb.com/rooms/8845310  20160104002432   \n",
       "3047  8131762  https://www.airbnb.com/rooms/8131762  20160104002432   \n",
       "1228  7035498  https://www.airbnb.com/rooms/7035498  20160104002432   \n",
       "2380  2809796  https://www.airbnb.com/rooms/2809796  20160104002432   \n",
       "\n",
       "     last_scraped                                 name  \\\n",
       "2407   2016-01-04               Private room with Deck   \n",
       "2233   2016-01-04                   Sweet Little House   \n",
       "3047   2016-01-04  Ground Floor unit on Lake Washingon   \n",
       "1228   2016-01-04  Hip Flat - Great dining steps away!   \n",
       "2380   2016-01-04   Garden Cottage near beach/downtown   \n",
       "\n",
       "                                                summary  \\\n",
       "2407  Cute private bedroom with bathroom next door. ...   \n",
       "2233  This 1909 home is full of charm (890sf) is wel...   \n",
       "3047  We have an apartment in our house, with a bedr...   \n",
       "1228  Perfect city-stay local for work or play. With...   \n",
       "2380  Enjoy this private oasis just minutes from dow...   \n",
       "\n",
       "                                                  space  \\\n",
       "2407  Private room with closet space. Great deck wit...   \n",
       "2233                                                NaN   \n",
       "3047                                                NaN   \n",
       "1228  Location, location, location! This is the perf...   \n",
       "2380  This bright and airy cottage has everything yo...   \n",
       "\n",
       "                                            description experiences_offered  \\\n",
       "2407  Cute private bedroom with bathroom next door. ...                none   \n",
       "2233  This 1909 home is full of charm (890sf) is wel...                none   \n",
       "3047  We have an apartment in our house, with a bedr...                none   \n",
       "1228  Perfect city-stay local for work or play. With...                none   \n",
       "2380  Enjoy this private oasis just minutes from dow...                none   \n",
       "\n",
       "                                  neighborhood_overview  ...  \\\n",
       "2407                                                NaN  ...   \n",
       "2233                                                NaN  ...   \n",
       "3047                                                NaN  ...   \n",
       "1228  The Jewel Box is in a pretty perfect location....  ...   \n",
       "2380                                                NaN  ...   \n",
       "\n",
       "     review_scores_value requires_license license jurisdiction_names  \\\n",
       "2407                10.0                f     NaN         WASHINGTON   \n",
       "2233                 NaN                f     NaN         WASHINGTON   \n",
       "3047                 NaN                f     NaN         WASHINGTON   \n",
       "1228                 9.0                f     NaN         WASHINGTON   \n",
       "2380                10.0                f     NaN         WASHINGTON   \n",
       "\n",
       "     instant_bookable cancellation_policy  require_guest_profile_picture  \\\n",
       "2407                f            flexible                              f   \n",
       "2233                f            flexible                              f   \n",
       "3047                f            flexible                              f   \n",
       "1228                f              strict                              f   \n",
       "2380                t            moderate                              f   \n",
       "\n",
       "     require_guest_phone_verification calculated_host_listings_count  \\\n",
       "2407                                f                              1   \n",
       "2233                                f                              1   \n",
       "3047                                f                              1   \n",
       "1228                                f                              2   \n",
       "2380                                f                              1   \n",
       "\n",
       "     reviews_per_month  \n",
       "2407              0.60  \n",
       "2233               NaN  \n",
       "3047               NaN  \n",
       "1228              5.71  \n",
       "2380              2.28  \n",
       "\n",
       "[5 rows x 92 columns]"
      ]
     },
     "execution_count": 123,
     "metadata": {},
     "output_type": "execute_result"
    }
   ],
   "source": [
    "dict_sa['listings'].sample(5)"
   ]
  },
  {
   "cell_type": "code",
   "execution_count": 121,
   "id": "1b05eae6-7edf-466b-889c-bc8cea86e657",
   "metadata": {},
   "outputs": [
    {
     "data": {
      "text/html": [
       "<div>\n",
       "<style scoped>\n",
       "    .dataframe tbody tr th:only-of-type {\n",
       "        vertical-align: middle;\n",
       "    }\n",
       "\n",
       "    .dataframe tbody tr th {\n",
       "        vertical-align: top;\n",
       "    }\n",
       "\n",
       "    .dataframe thead th {\n",
       "        text-align: right;\n",
       "    }\n",
       "</style>\n",
       "<table border=\"1\" class=\"dataframe\">\n",
       "  <thead>\n",
       "    <tr style=\"text-align: right;\">\n",
       "      <th></th>\n",
       "      <th>listing_id</th>\n",
       "      <th>date</th>\n",
       "      <th>available</th>\n",
       "      <th>price</th>\n",
       "    </tr>\n",
       "  </thead>\n",
       "  <tbody>\n",
       "    <tr>\n",
       "      <th>1318080</th>\n",
       "      <td>3994634</td>\n",
       "      <td>2016-03-09</td>\n",
       "      <td>t</td>\n",
       "      <td>$31.00</td>\n",
       "    </tr>\n",
       "    <tr>\n",
       "      <th>315260</th>\n",
       "      <td>6675927</td>\n",
       "      <td>2016-09-25</td>\n",
       "      <td>f</td>\n",
       "      <td>NaN</td>\n",
       "    </tr>\n",
       "    <tr>\n",
       "      <th>1132833</th>\n",
       "      <td>670021</td>\n",
       "      <td>2016-08-29</td>\n",
       "      <td>f</td>\n",
       "      <td>NaN</td>\n",
       "    </tr>\n",
       "    <tr>\n",
       "      <th>175462</th>\n",
       "      <td>7839535</td>\n",
       "      <td>2016-09-22</td>\n",
       "      <td>f</td>\n",
       "      <td>NaN</td>\n",
       "    </tr>\n",
       "    <tr>\n",
       "      <th>1055364</th>\n",
       "      <td>6305798</td>\n",
       "      <td>2016-06-01</td>\n",
       "      <td>t</td>\n",
       "      <td>$134.00</td>\n",
       "    </tr>\n",
       "  </tbody>\n",
       "</table>\n",
       "</div>"
      ],
      "text/plain": [
       "         listing_id        date available    price\n",
       "1318080     3994634  2016-03-09         t   $31.00\n",
       "315260      6675927  2016-09-25         f      NaN\n",
       "1132833      670021  2016-08-29         f      NaN\n",
       "175462      7839535  2016-09-22         f      NaN\n",
       "1055364     6305798  2016-06-01         t  $134.00"
      ]
     },
     "execution_count": 121,
     "metadata": {},
     "output_type": "execute_result"
    }
   ],
   "source": [
    "dict_sa['calendar'].sample(5)"
   ]
  },
  {
   "cell_type": "markdown",
   "id": "54ca6181-0736-4ffc-b653-05aec90632fa",
   "metadata": {},
   "source": [
    "> Merge the dataframes for boston"
   ]
  },
  {
   "cell_type": "code",
   "execution_count": 108,
   "id": "5685ba68-0808-4227-8d31-18ae913ebc2c",
   "metadata": {},
   "outputs": [
    {
     "name": "stdout",
     "output_type": "stream",
     "text": [
      "<class 'pandas.core.frame.DataFrame'>\n",
      "RangeIndex: 24920375 entries, 0 to 24920374\n",
      "Columns: 104 entries, listing_id to price_y\n",
      "dtypes: float64(18), int64(18), object(68)\n",
      "memory usage: 19.3+ GB\n"
     ]
    }
   ],
   "source": [
    "df_bs = dict_bs['reviews'].merge(dict_bs['listings'], how='inner', left_on='listing_id', right_on='id')\n",
    "df_bs = df_bs.merge(dict_bs['calendar'], how='inner', on='listing_id')\n",
    "df_bs.info()"
   ]
  },
  {
   "cell_type": "markdown",
   "id": "8b2c04d5-271b-472b-a37c-9e36c9c58a69",
   "metadata": {},
   "source": [
    "> merge dataframe for seattle"
   ]
  },
  {
   "cell_type": "code",
   "execution_count": 109,
   "id": "4b16cadd-777c-4ef7-8706-670153327999",
   "metadata": {},
   "outputs": [
    {
     "name": "stdout",
     "output_type": "stream",
     "text": [
      "<class 'pandas.core.frame.DataFrame'>\n",
      "RangeIndex: 30969885 entries, 0 to 30969884\n",
      "Columns: 101 entries, listing_id to price_y\n",
      "dtypes: float64(17), int64(16), object(68)\n",
      "memory usage: 23.3+ GB\n"
     ]
    }
   ],
   "source": [
    "df_sa = dict_sa['reviews'].merge(dict_sa['listings'], how='inner', left_on='listing_id', right_on='id')\n",
    "df_sa = df_sa.merge(dict_sa['calendar'], how='inner', on='listing_id')\n",
    "df_sa.info()"
   ]
  },
  {
   "cell_type": "code",
   "execution_count": null,
   "id": "2c596789-4da3-4729-b711-ffd7a6c1000a",
   "metadata": {},
   "outputs": [],
   "source": []
  }
 ],
 "metadata": {
  "kernelspec": {
   "display_name": "Python 3 (ipykernel)",
   "language": "python",
   "name": "python3"
  },
  "language_info": {
   "codemirror_mode": {
    "name": "ipython",
    "version": 3
   },
   "file_extension": ".py",
   "mimetype": "text/x-python",
   "name": "python",
   "nbconvert_exporter": "python",
   "pygments_lexer": "ipython3",
   "version": "3.8.9"
  }
 },
 "nbformat": 4,
 "nbformat_minor": 5
}
