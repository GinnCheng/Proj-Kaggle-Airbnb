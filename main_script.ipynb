{
 "cells": [
  {
   "cell_type": "markdown",
   "id": "4f18e8c8-1f4b-47f1-ab0c-c65c650581ae",
   "metadata": {},
   "source": [
    "# Airbnb data investigation\n",
    "## Seattle Airbnb Open Data\n",
    "> A sneak peek into the Airbnb activity in Seattle, WA, USA\n",
    "### Context\n",
    "> Since 2008, guests and hosts have used Airbnb to travel in a more unique, personalized way. As part of the Airbnb Inside initiative, this dataset describes the listing activity of homestays in Seattle, WA.\n",
    "\n",
    "### Content\n",
    "> The following Airbnb activity is included in this Seattle dataset:\n",
    "\n",
    ">* Listings, including full descriptions and average review score\n",
    ">* Reviews, including unique id for each reviewer and detailed comments\n",
    ">* Calendar, including listing id and the price and availability for that day\n",
    "\n",
    "### Acknowledgement\n",
    "> This dataset is part of Airbnb Inside, and the original source can be found [here](http://insideairbnb.com/get-the-data.html).\n",
    "\n",
    "## Boston Airbnb Open Data\n",
    "> A sneak peek into the Airbnb activity in Boston, MA, USA\n",
    "### Context\n",
    "> Since 2008, guests and hosts have used Airbnb to travel in a more unique, personalized way. As part of the Airbnb Inside initiative, this dataset describes the listing activity of homestays in Boston, MA.\n",
    "\n",
    "### Content\n",
    "> The following Airbnb activity is included in this Boston dataset:\n",
    "\n",
    "> *Listings, including full descriptions and average review score\n",
    "> *Reviews, including unique id for each reviewer and detailed comments\n",
    "> *Calendar, including listing id and the price and availability for that day\n",
    "\n",
    "### Acknowledgement\n",
    "> This dataset is part of Airbnb Inside, and the original source can be found [here](http://insideairbnb.com/get-the-data.html)."
   ]
  },
  {
   "cell_type": "markdown",
   "id": "5af85368-8d1f-401a-948c-a79a8c51d6cb",
   "metadata": {},
   "source": [
    "# Load data"
   ]
  },
  {
   "cell_type": "code",
   "execution_count": 7,
   "id": "fd3aa034-506f-46bd-90fe-b5fe6aea8d6e",
   "metadata": {},
   "outputs": [
    {
     "name": "stdout",
     "output_type": "stream",
     "text": [
      "\u001b[34mBoston Airbnb Open Data\u001b[m\u001b[m/        Dataset of USED CARS.zip\n",
      "Boston Airbnb Open Data.zip     Netflix_movie_and_TV_shows.csv\n",
      "Car Sales.xlsx - car_data.csv   Netflix_movie_and_TV_shows.zip\n",
      "Car sales report.zip            \u001b[34mSeattle_Airbnb\u001b[m\u001b[m/\n",
      "Dataset of USED CARS.csv        Seattle_Airbnb.zip\n"
     ]
    }
   ],
   "source": [
    "# data location\n",
    "%ls ../../Datasets"
   ]
  },
  {
   "cell_type": "code",
   "execution_count": 60,
   "id": "10501cef-f91a-4df0-b809-aeb94fd34eac",
   "metadata": {},
   "outputs": [],
   "source": [
    "# set data location\n",
    "data_dir = '../../Datasets/'\n",
    "boston_dir = data_dir+\"Boston Airbnb Open Data/\"\n",
    "seattle_dir = data_dir+'Seattle_Airbnb/'"
   ]
  },
  {
   "cell_type": "code",
   "execution_count": 75,
   "id": "04c29dcf-408c-44eb-b2cd-f9e34601d4a9",
   "metadata": {},
   "outputs": [],
   "source": [
    "import os\n",
    "# all boston datasets and seattle datasets\n",
    "bs_all,sa_all = [],[]\n",
    "for root,dirs,files in os.walk(boston_dir):\n",
    "    for file in files:\n",
    "        bs_all.append(os.path.join(root,file))\n",
    "for root,dirs,files in os.walk(seattle_dir):\n",
    "    for file in files:\n",
    "        sa_all.append(os.path.join(root,file))"
   ]
  },
  {
   "cell_type": "code",
   "execution_count": 76,
   "id": "3dcecf72-7ad6-4b1d-abf5-659fe35a97d6",
   "metadata": {},
   "outputs": [
    {
     "data": {
      "text/plain": [
       "['../../Datasets/Boston Airbnb Open Data/reviews.csv',\n",
       " '../../Datasets/Boston Airbnb Open Data/listings.csv',\n",
       " '../../Datasets/Boston Airbnb Open Data/calendar.csv']"
      ]
     },
     "execution_count": 76,
     "metadata": {},
     "output_type": "execute_result"
    }
   ],
   "source": [
    "bs_all"
   ]
  },
  {
   "cell_type": "code",
   "execution_count": 77,
   "id": "6341d6b4-08ce-4a40-b881-fb621d0f5d75",
   "metadata": {},
   "outputs": [
    {
     "data": {
      "text/plain": [
       "['../../Datasets/Seattle_Airbnb/reviews.csv',\n",
       " '../../Datasets/Seattle_Airbnb/listings.csv',\n",
       " '../../Datasets/Seattle_Airbnb/calendar.csv']"
      ]
     },
     "execution_count": 77,
     "metadata": {},
     "output_type": "execute_result"
    }
   ],
   "source": [
    "sa_all"
   ]
  },
  {
   "cell_type": "markdown",
   "id": "d69cd71a-24f0-4c50-a00c-e06d463fadd1",
   "metadata": {},
   "source": [
    "> ## Load all datasets"
   ]
  },
  {
   "cell_type": "code",
   "execution_count": null,
   "id": "a5fdb620-ae44-41bf-87c1-9c9359359d52",
   "metadata": {},
   "outputs": [],
   "source": []
  }
 ],
 "metadata": {
  "kernelspec": {
   "display_name": "Python 3 (ipykernel)",
   "language": "python",
   "name": "python3"
  },
  "language_info": {
   "codemirror_mode": {
    "name": "ipython",
    "version": 3
   },
   "file_extension": ".py",
   "mimetype": "text/x-python",
   "name": "python",
   "nbconvert_exporter": "python",
   "pygments_lexer": "ipython3",
   "version": "3.8.9"
  }
 },
 "nbformat": 4,
 "nbformat_minor": 5
}
