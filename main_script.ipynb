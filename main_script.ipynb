{
 "cells": [
  {
   "cell_type": "markdown",
   "id": "4f18e8c8-1f4b-47f1-ab0c-c65c650581ae",
   "metadata": {},
   "source": [
    "# Airbnb data analysis\n",
    "### Questions:\n",
    ">* What is the price range monthly in each region in Boston and Seattle?\n",
    ">\n",
    ">* What is the most vibe time in each region in Boston and Seattle?\n",
    ">  \n",
    ">* Can we predict the possible cost as per the corresponding holder's profiles (e.g., region, ratings, and month and day)?"
   ]
  },
  {
   "cell_type": "markdown",
   "id": "5af85368-8d1f-401a-948c-a79a8c51d6cb",
   "metadata": {},
   "source": [
    "# Load data"
   ]
  },
  {
   "cell_type": "code",
   "execution_count": 1,
   "id": "10501cef-f91a-4df0-b809-aeb94fd34eac",
   "metadata": {},
   "outputs": [],
   "source": [
    "# set data location\n",
    "data_dir = '../../Datasets/'\n",
    "boston_dir = data_dir+\"Boston Airbnb Open Data/\"\n",
    "seattle_dir = data_dir+'Seattle_Airbnb/'"
   ]
  },
  {
   "cell_type": "code",
   "execution_count": 2,
   "id": "04c29dcf-408c-44eb-b2cd-f9e34601d4a9",
   "metadata": {},
   "outputs": [],
   "source": [
    "import os\n",
    "# all boston datasets and seattle datasets\n",
    "bs_all,sa_all = [],[]\n",
    "for root,dirs,files in os.walk(boston_dir):\n",
    "    for file in files:\n",
    "        bs_all.append(os.path.join(root,file))\n",
    "for root,dirs,files in os.walk(seattle_dir):\n",
    "    for file in files:\n",
    "        sa_all.append(os.path.join(root,file))"
   ]
  },
  {
   "cell_type": "markdown",
   "id": "d69cd71a-24f0-4c50-a00c-e06d463fadd1",
   "metadata": {},
   "source": [
    "> ## Load all datasets"
   ]
  },
  {
   "cell_type": "code",
   "execution_count": 3,
   "id": "e09a2355-669c-4952-adf8-21d6905f0cf2",
   "metadata": {},
   "outputs": [],
   "source": [
    "import pandas as pd\n",
    "import numpy as np\n",
    "import warnings\n",
    "warnings.filterwarnings('ignore')\n",
    "pd.set_option('display.max_columns',100)\n",
    "# change number format on the display to avoid complicated scientific numbers\n",
    "def format_float(x):\n",
    "    if x.is_integer():\n",
    "        return '{:.0f}'.format(x)  # Format integers without decimal places\n",
    "    else:\n",
    "        return '{:.1f}'.format(x)  # Format floats with 5 decimal places\n",
    "pd.set_option('display.float_format', format_float)"
   ]
  },
  {
   "cell_type": "code",
   "execution_count": 4,
   "id": "a5fdb620-ae44-41bf-87c1-9c9359359d52",
   "metadata": {},
   "outputs": [],
   "source": [
    "# since both datasets contain 'reviews','listings', and 'calendar', create a dictionary key\n",
    "dict_keys = ['reviews','listings','calendar']\n",
    "# create dictionary of dataframes for both boston and seattle\n",
    "dict_bs, dict_sa = {}, {}\n",
    "for i,dict_key in enumerate(dict_keys):\n",
    "    dict_bs[dict_key] = pd.read_csv(bs_all[i])\n",
    "    dict_sa[dict_key] = pd.read_csv(sa_all[i])"
   ]
  },
  {
   "cell_type": "markdown",
   "id": "c3c0eb90-3f4c-46d5-8177-68b74862b00d",
   "metadata": {},
   "source": [
    "## Wrangle data"
   ]
  },
  {
   "cell_type": "markdown",
   "id": "e5848bbf-81a1-4346-b234-2bc0328bfef2",
   "metadata": {},
   "source": [
    "> The data size is very large, directly merging will be too huge. Drop the non-essential columns and decrease the granuarity of the data.\n",
    ">\n",
    "> Focusing on the three questions shown above, NLP is not necessarily efficient in the case that the numerical ratings are given. Therefore, NLP remains to be optional for further analysis including keywords extraction and word vectorisation."
   ]
  },
  {
   "cell_type": "code",
   "execution_count": 5,
   "id": "7ada52b5-13a6-485a-b7f3-33ff1b01d85f",
   "metadata": {},
   "outputs": [],
   "source": [
    "# save the dataframe for wrangling\n",
    "ls_bs, ls_sa, cd_bs, cd_sa = dict_bs['listings'], dict_sa['listings'], dict_bs['calendar'], dict_sa['calendar']"
   ]
  },
  {
   "cell_type": "code",
   "execution_count": 6,
   "id": "1ceb9382-efc3-477c-8728-c4aab2d6c3b9",
   "metadata": {},
   "outputs": [],
   "source": [
    "# drop nans\n",
    "ls_bs.dropna(how='all', axis=1, inplace=True)\n",
    "ls_sa.dropna(how='all', axis=1, inplace=True)\n",
    "ls_bs.dropna(how='all', axis=0, inplace=True)\n",
    "ls_sa.dropna(how='all', axis=0, inplace=True)\n",
    "# get the common columns for better comparision\n",
    "ls_com_col = [col for col in ls_bs.columns if col in ls_sa.columns]\n",
    "ls_bs, ls_sa = ls_bs[ls_com_col], ls_sa[ls_com_col]"
   ]
  },
  {
   "cell_type": "markdown",
   "id": "230e04ac-5149-407a-9a00-b7e1178773b5",
   "metadata": {},
   "source": [
    "> To address the questions in this investigation, dataframe 'reviews' and NLP are not necessarily to be included."
   ]
  },
  {
   "cell_type": "markdown",
   "id": "8e551455-6a8e-4ef0-bc6b-d4a5dad5c8a4",
   "metadata": {},
   "source": [
    "> check the columns and select the essential columns\n",
    "> \n",
    "> * 'id', 'neighbourhood_cleansed', 'price', 'review_scores_rating', 'review_scores_accuracy', 'review_scores_cleanliness',\t'review_scores_checkin', 'review_scores_communication',\t'review_scores_location', 'review_scores_value', 'reviews_per_month'"
   ]
  },
  {
   "cell_type": "code",
   "execution_count": 7,
   "id": "b557ddd6-1168-4a17-9474-caf7169709d8",
   "metadata": {},
   "outputs": [],
   "source": [
    "select_ls_col = ['id', 'neighbourhood_cleansed', 'price', 'review_scores_rating', 'review_scores_accuracy', 'review_scores_cleanliness', 'review_scores_checkin', 'review_scores_communication', 'review_scores_location', 'review_scores_value', 'reviews_per_month']"
   ]
  },
  {
   "cell_type": "code",
   "execution_count": 8,
   "id": "926cabf8-74e0-4244-8130-569f2c99b9d5",
   "metadata": {},
   "outputs": [],
   "source": [
    "ls_bs, ls_sa = ls_bs[select_ls_col], ls_sa[select_ls_col]"
   ]
  },
  {
   "cell_type": "markdown",
   "id": "c8fb7ecc-0795-4a1f-95dc-fc591b3853e9",
   "metadata": {},
   "source": [
    "> merge the listings and calendar for boston and seattle dataframes"
   ]
  },
  {
   "cell_type": "code",
   "execution_count": 9,
   "id": "6a01d2c3-239c-4857-b64a-2b4ac92de886",
   "metadata": {},
   "outputs": [],
   "source": [
    "# rename the price columns to avoid name clash\n",
    "ls_bs.rename(columns={'price':'base_price'},inplace=True)\n",
    "ls_sa.rename(columns={'price':'base_price'},inplace=True)\n",
    "df_bs = ls_bs.merge(cd_bs, how='inner', left_on='id', right_on='listing_id')\n",
    "df_sa = ls_sa.merge(cd_sa, how='inner', left_on='id', right_on='listing_id')\n",
    "# create an extra column for both\n",
    "df_bs['city'], df_sa['city'] = 'Boston', 'Seattle'\n",
    "# drop id\n",
    "df_bs.drop(columns='id', inplace=True)\n",
    "df_sa.drop(columns='id', inplace=True)\n",
    "# merge the two datasets\n",
    "df = pd.concat([df_bs,df_sa], axis=0)\n",
    "df.reset_index(inplace=True, drop=True)"
   ]
  },
  {
   "cell_type": "markdown",
   "id": "586e602c-92e0-44af-a059-046ab7b88492",
   "metadata": {},
   "source": [
    "> clean up the na values. Although the missing ratings can be filled up by regressing the ratings of each airbnb name, 20% of missing is still okay for this size of data. However, the missing values of prices are over 41%. The value can be regressed by the base_price value "
   ]
  },
  {
   "cell_type": "code",
   "execution_count": 10,
   "id": "ca8b9ff1-129b-4b02-8302-fcc73ff68357",
   "metadata": {},
   "outputs": [
    {
     "data": {
      "text/plain": [
       "(2158975, 15)"
      ]
     },
     "execution_count": 10,
     "metadata": {},
     "output_type": "execute_result"
    }
   ],
   "source": [
    "df.dropna(how='any', subset=['review_scores_rating','review_scores_accuracy','review_scores_cleanliness',\n",
    "                             'review_scores_checkin', 'review_scores_communication', 'review_scores_location',\n",
    "                             'review_scores_value','reviews_per_month'], inplace=True)\n",
    "df.shape"
   ]
  },
  {
   "cell_type": "code",
   "execution_count": 11,
   "id": "ef0c960f-5e06-43ad-ace3-5c1988ff829c",
   "metadata": {},
   "outputs": [],
   "source": [
    "# reformat base_price and price\n",
    "df['base_price'] = df['base_price'].str.extract(r'(\\d+\\.\\d+)')\n",
    "df['price'] = df['price'].str.extract(r'(\\d+\\.\\d+)')\n",
    "df[['base_price','price']] = df[['base_price','price']].astype('float32')\n",
    "df = df.query('base_price > 0')"
   ]
  },
  {
   "cell_type": "code",
   "execution_count": 12,
   "id": "607aadc1-0106-45b0-bb39-57b67658893d",
   "metadata": {},
   "outputs": [],
   "source": [
    "# fill the na values in price coln using base_price\n",
    "from sklearn.linear_model import LinearRegression\n",
    "lrm = LinearRegression()\n",
    "indx_missing = df.price.isnull()\n",
    "x_train, x_test, y_train, y_test = df.base_price[~indx_missing].values.reshape(-1,1), df.base_price[indx_missing].values.reshape(-1,1), \\\n",
    "                                    df.price[~indx_missing], df.price[indx_missing]\n",
    "lrm.fit(x_train, y_train)\n",
    "y_pred = lrm.predict(x_test)\n",
    "df.price[indx_missing] = np.round(y_pred)\n",
    "df = df.query('price > 0')"
   ]
  },
  {
   "cell_type": "code",
   "execution_count": 13,
   "id": "de1795a6-ac08-4c83-b533-a0f7f1e21491",
   "metadata": {},
   "outputs": [],
   "source": [
    "# continue to clean and minimise the memory size\n",
    "df.drop(columns=['listing_id'], inplace=True)\n",
    "df[['city','neighbourhood_cleansed']]=df[['city','neighbourhood_cleansed']].astype('category')\n",
    "review_int_cols = ['review_scores_rating','review_scores_accuracy','review_scores_cleanliness',\n",
    "                             'review_scores_checkin', 'review_scores_communication', 'review_scores_location',\n",
    "                             'review_scores_value']\n",
    "df[review_int_cols] = df[review_int_cols].astype('int8')\n",
    "df['reviews_per_month'] = df['reviews_per_month'].astype('float16')\n",
    "# replace column 'available' with 'booked' to show how many bookings\n",
    "df['booked'] = df.available.apply(lambda x: x=='f').astype('int8')\n",
    "df.drop(columns='available',inplace=True)"
   ]
  },
  {
   "cell_type": "code",
   "execution_count": 14,
   "id": "8a6e05cc-5a8b-4b42-9e4a-4e5f774cdb6b",
   "metadata": {},
   "outputs": [],
   "source": [
    "# reformat date\n",
    "df.date = pd.to_datetime(df.date)\n",
    "# create new columns for year, month and day\n",
    "df['year'] = df.date.dt.year.astype('int16')\n",
    "df['month'] = df.date.dt.month.astype('int8')\n",
    "df['day'] = df.date.dt.day.astype('int8')\n",
    "df.drop(columns='date',inplace=True)"
   ]
  },
  {
   "cell_type": "code",
   "execution_count": 15,
   "id": "20fe2ffc-4105-406e-922b-97b43c77693b",
   "metadata": {},
   "outputs": [
    {
     "data": {
      "text/html": [
       "<div>\n",
       "<style scoped>\n",
       "    .dataframe tbody tr th:only-of-type {\n",
       "        vertical-align: middle;\n",
       "    }\n",
       "\n",
       "    .dataframe tbody tr th {\n",
       "        vertical-align: top;\n",
       "    }\n",
       "\n",
       "    .dataframe thead th {\n",
       "        text-align: right;\n",
       "    }\n",
       "</style>\n",
       "<table border=\"1\" class=\"dataframe\">\n",
       "  <thead>\n",
       "    <tr style=\"text-align: right;\">\n",
       "      <th></th>\n",
       "      <th>neighbourhood_cleansed</th>\n",
       "      <th>base_price</th>\n",
       "      <th>review_scores_rating</th>\n",
       "      <th>review_scores_accuracy</th>\n",
       "      <th>review_scores_cleanliness</th>\n",
       "      <th>review_scores_checkin</th>\n",
       "      <th>review_scores_communication</th>\n",
       "      <th>review_scores_location</th>\n",
       "      <th>review_scores_value</th>\n",
       "      <th>reviews_per_month</th>\n",
       "      <th>price</th>\n",
       "      <th>city</th>\n",
       "      <th>booked</th>\n",
       "      <th>year</th>\n",
       "      <th>month</th>\n",
       "      <th>day</th>\n",
       "    </tr>\n",
       "  </thead>\n",
       "  <tbody>\n",
       "    <tr>\n",
       "      <th>1787979</th>\n",
       "      <td>Belltown</td>\n",
       "      <td>700</td>\n",
       "      <td>100</td>\n",
       "      <td>10</td>\n",
       "      <td>10</td>\n",
       "      <td>10</td>\n",
       "      <td>10</td>\n",
       "      <td>10</td>\n",
       "      <td>8</td>\n",
       "      <td>0.8</td>\n",
       "      <td>729</td>\n",
       "      <td>Seattle</td>\n",
       "      <td>1</td>\n",
       "      <td>2016</td>\n",
       "      <td>7</td>\n",
       "      <td>31</td>\n",
       "    </tr>\n",
       "    <tr>\n",
       "      <th>808396</th>\n",
       "      <td>Fenway</td>\n",
       "      <td>67</td>\n",
       "      <td>89</td>\n",
       "      <td>10</td>\n",
       "      <td>9</td>\n",
       "      <td>10</td>\n",
       "      <td>10</td>\n",
       "      <td>10</td>\n",
       "      <td>9</td>\n",
       "      <td>1.2</td>\n",
       "      <td>78</td>\n",
       "      <td>Boston</td>\n",
       "      <td>1</td>\n",
       "      <td>2017</td>\n",
       "      <td>5</td>\n",
       "      <td>10</td>\n",
       "    </tr>\n",
       "    <tr>\n",
       "      <th>2353537</th>\n",
       "      <td>Broadway</td>\n",
       "      <td>180</td>\n",
       "      <td>94</td>\n",
       "      <td>9</td>\n",
       "      <td>9</td>\n",
       "      <td>10</td>\n",
       "      <td>9</td>\n",
       "      <td>10</td>\n",
       "      <td>8</td>\n",
       "      <td>0.5</td>\n",
       "      <td>180</td>\n",
       "      <td>Seattle</td>\n",
       "      <td>0</td>\n",
       "      <td>2016</td>\n",
       "      <td>1</td>\n",
       "      <td>21</td>\n",
       "    </tr>\n",
       "    <tr>\n",
       "      <th>253039</th>\n",
       "      <td>North End</td>\n",
       "      <td>150</td>\n",
       "      <td>97</td>\n",
       "      <td>10</td>\n",
       "      <td>10</td>\n",
       "      <td>10</td>\n",
       "      <td>10</td>\n",
       "      <td>10</td>\n",
       "      <td>9</td>\n",
       "      <td>6.9</td>\n",
       "      <td>163</td>\n",
       "      <td>Boston</td>\n",
       "      <td>1</td>\n",
       "      <td>2017</td>\n",
       "      <td>6</td>\n",
       "      <td>3</td>\n",
       "    </tr>\n",
       "    <tr>\n",
       "      <th>1717518</th>\n",
       "      <td>Eastlake</td>\n",
       "      <td>59</td>\n",
       "      <td>90</td>\n",
       "      <td>10</td>\n",
       "      <td>10</td>\n",
       "      <td>10</td>\n",
       "      <td>10</td>\n",
       "      <td>9</td>\n",
       "      <td>9</td>\n",
       "      <td>0.2</td>\n",
       "      <td>69</td>\n",
       "      <td>Seattle</td>\n",
       "      <td>1</td>\n",
       "      <td>2016</td>\n",
       "      <td>7</td>\n",
       "      <td>15</td>\n",
       "    </tr>\n",
       "  </tbody>\n",
       "</table>\n",
       "</div>"
      ],
      "text/plain": [
       "        neighbourhood_cleansed  base_price  review_scores_rating  \\\n",
       "1787979               Belltown         700                   100   \n",
       "808396                  Fenway          67                    89   \n",
       "2353537               Broadway         180                    94   \n",
       "253039               North End         150                    97   \n",
       "1717518               Eastlake          59                    90   \n",
       "\n",
       "         review_scores_accuracy  review_scores_cleanliness  \\\n",
       "1787979                      10                         10   \n",
       "808396                       10                          9   \n",
       "2353537                       9                          9   \n",
       "253039                       10                         10   \n",
       "1717518                      10                         10   \n",
       "\n",
       "         review_scores_checkin  review_scores_communication  \\\n",
       "1787979                     10                           10   \n",
       "808396                      10                           10   \n",
       "2353537                     10                            9   \n",
       "253039                      10                           10   \n",
       "1717518                     10                           10   \n",
       "\n",
       "         review_scores_location  review_scores_value  reviews_per_month  \\\n",
       "1787979                      10                    8                0.8   \n",
       "808396                       10                    9                1.2   \n",
       "2353537                      10                    8                0.5   \n",
       "253039                       10                    9                6.9   \n",
       "1717518                       9                    9                0.2   \n",
       "\n",
       "         price     city  booked  year  month  day  \n",
       "1787979    729  Seattle       1  2016      7   31  \n",
       "808396      78   Boston       1  2017      5   10  \n",
       "2353537    180  Seattle       0  2016      1   21  \n",
       "253039     163   Boston       1  2017      6    3  \n",
       "1717518     69  Seattle       1  2016      7   15  "
      ]
     },
     "execution_count": 15,
     "metadata": {},
     "output_type": "execute_result"
    }
   ],
   "source": [
    "df.sample(5)"
   ]
  },
  {
   "cell_type": "code",
   "execution_count": 16,
   "id": "2bedbf1c-86d2-469c-84ae-ab916037a5bf",
   "metadata": {},
   "outputs": [
    {
     "data": {
      "text/html": [
       "<div>\n",
       "<style scoped>\n",
       "    .dataframe tbody tr th:only-of-type {\n",
       "        vertical-align: middle;\n",
       "    }\n",
       "\n",
       "    .dataframe tbody tr th {\n",
       "        vertical-align: top;\n",
       "    }\n",
       "\n",
       "    .dataframe thead th {\n",
       "        text-align: right;\n",
       "    }\n",
       "</style>\n",
       "<table border=\"1\" class=\"dataframe\">\n",
       "  <thead>\n",
       "    <tr style=\"text-align: right;\">\n",
       "      <th></th>\n",
       "      <th>base_price</th>\n",
       "      <th>review_scores_rating</th>\n",
       "      <th>review_scores_accuracy</th>\n",
       "      <th>review_scores_cleanliness</th>\n",
       "      <th>review_scores_checkin</th>\n",
       "      <th>review_scores_communication</th>\n",
       "      <th>review_scores_location</th>\n",
       "      <th>review_scores_value</th>\n",
       "      <th>reviews_per_month</th>\n",
       "      <th>price</th>\n",
       "      <th>booked</th>\n",
       "      <th>year</th>\n",
       "      <th>month</th>\n",
       "      <th>day</th>\n",
       "    </tr>\n",
       "  </thead>\n",
       "  <tbody>\n",
       "    <tr>\n",
       "      <th>count</th>\n",
       "      <td>2157944</td>\n",
       "      <td>2157944</td>\n",
       "      <td>2157944</td>\n",
       "      <td>2157944</td>\n",
       "      <td>2157944</td>\n",
       "      <td>2157944</td>\n",
       "      <td>2157944</td>\n",
       "      <td>2157944</td>\n",
       "      <td>2157944</td>\n",
       "      <td>2157944</td>\n",
       "      <td>2157944</td>\n",
       "      <td>2157944</td>\n",
       "      <td>2157944</td>\n",
       "      <td>2157944</td>\n",
       "    </tr>\n",
       "    <tr>\n",
       "      <th>mean</th>\n",
       "      <td>144.8</td>\n",
       "      <td>93.3</td>\n",
       "      <td>9.5</td>\n",
       "      <td>9.4</td>\n",
       "      <td>9.7</td>\n",
       "      <td>9.7</td>\n",
       "      <td>9.5</td>\n",
       "      <td>9.3</td>\n",
       "      <td>NaN</td>\n",
       "      <td>157.7</td>\n",
       "      <td>0.4</td>\n",
       "      <td>2016.3</td>\n",
       "      <td>6.5</td>\n",
       "      <td>15.8</td>\n",
       "    </tr>\n",
       "    <tr>\n",
       "      <th>std</th>\n",
       "      <td>100.1</td>\n",
       "      <td>8.2</td>\n",
       "      <td>0.8</td>\n",
       "      <td>1.0</td>\n",
       "      <td>0.7</td>\n",
       "      <td>0.7</td>\n",
       "      <td>0.8</td>\n",
       "      <td>0.9</td>\n",
       "      <td>0</td>\n",
       "      <td>111.9</td>\n",
       "      <td>0.5</td>\n",
       "      <td>0.5</td>\n",
       "      <td>3.4</td>\n",
       "      <td>8.8</td>\n",
       "    </tr>\n",
       "    <tr>\n",
       "      <th>min</th>\n",
       "      <td>11</td>\n",
       "      <td>20</td>\n",
       "      <td>2</td>\n",
       "      <td>2</td>\n",
       "      <td>2</td>\n",
       "      <td>2</td>\n",
       "      <td>2</td>\n",
       "      <td>2</td>\n",
       "      <td>0.0</td>\n",
       "      <td>2</td>\n",
       "      <td>0</td>\n",
       "      <td>2016</td>\n",
       "      <td>1</td>\n",
       "      <td>1</td>\n",
       "    </tr>\n",
       "    <tr>\n",
       "      <th>25%</th>\n",
       "      <td>79</td>\n",
       "      <td>91</td>\n",
       "      <td>9</td>\n",
       "      <td>9</td>\n",
       "      <td>10</td>\n",
       "      <td>10</td>\n",
       "      <td>9</td>\n",
       "      <td>9</td>\n",
       "      <td>0.6</td>\n",
       "      <td>85</td>\n",
       "      <td>0</td>\n",
       "      <td>2016</td>\n",
       "      <td>4</td>\n",
       "      <td>8</td>\n",
       "    </tr>\n",
       "    <tr>\n",
       "      <th>50%</th>\n",
       "      <td>118</td>\n",
       "      <td>95</td>\n",
       "      <td>10</td>\n",
       "      <td>10</td>\n",
       "      <td>10</td>\n",
       "      <td>10</td>\n",
       "      <td>10</td>\n",
       "      <td>9</td>\n",
       "      <td>1.4</td>\n",
       "      <td>125</td>\n",
       "      <td>0</td>\n",
       "      <td>2016</td>\n",
       "      <td>7</td>\n",
       "      <td>16</td>\n",
       "    </tr>\n",
       "    <tr>\n",
       "      <th>75%</th>\n",
       "      <td>180</td>\n",
       "      <td>99</td>\n",
       "      <td>10</td>\n",
       "      <td>10</td>\n",
       "      <td>10</td>\n",
       "      <td>10</td>\n",
       "      <td>10</td>\n",
       "      <td>10</td>\n",
       "      <td>2.9</td>\n",
       "      <td>199</td>\n",
       "      <td>1</td>\n",
       "      <td>2017</td>\n",
       "      <td>10</td>\n",
       "      <td>23</td>\n",
       "    </tr>\n",
       "    <tr>\n",
       "      <th>max</th>\n",
       "      <td>999</td>\n",
       "      <td>100</td>\n",
       "      <td>10</td>\n",
       "      <td>10</td>\n",
       "      <td>10</td>\n",
       "      <td>10</td>\n",
       "      <td>10</td>\n",
       "      <td>10</td>\n",
       "      <td>19.2</td>\n",
       "      <td>1036</td>\n",
       "      <td>1</td>\n",
       "      <td>2017</td>\n",
       "      <td>12</td>\n",
       "      <td>31</td>\n",
       "    </tr>\n",
       "  </tbody>\n",
       "</table>\n",
       "</div>"
      ],
      "text/plain": [
       "       base_price  review_scores_rating  review_scores_accuracy  \\\n",
       "count     2157944               2157944                 2157944   \n",
       "mean        144.8                  93.3                     9.5   \n",
       "std         100.1                   8.2                     0.8   \n",
       "min            11                    20                       2   \n",
       "25%            79                    91                       9   \n",
       "50%           118                    95                      10   \n",
       "75%           180                    99                      10   \n",
       "max           999                   100                      10   \n",
       "\n",
       "       review_scores_cleanliness  review_scores_checkin  \\\n",
       "count                    2157944                2157944   \n",
       "mean                         9.4                    9.7   \n",
       "std                          1.0                    0.7   \n",
       "min                            2                      2   \n",
       "25%                            9                     10   \n",
       "50%                           10                     10   \n",
       "75%                           10                     10   \n",
       "max                           10                     10   \n",
       "\n",
       "       review_scores_communication  review_scores_location  \\\n",
       "count                      2157944                 2157944   \n",
       "mean                           9.7                     9.5   \n",
       "std                            0.7                     0.8   \n",
       "min                              2                       2   \n",
       "25%                             10                       9   \n",
       "50%                             10                      10   \n",
       "75%                             10                      10   \n",
       "max                             10                      10   \n",
       "\n",
       "       review_scores_value  reviews_per_month   price  booked    year   month  \\\n",
       "count              2157944            2157944 2157944 2157944 2157944 2157944   \n",
       "mean                   9.3                NaN   157.7     0.4  2016.3     6.5   \n",
       "std                    0.9                  0   111.9     0.5     0.5     3.4   \n",
       "min                      2                0.0       2       0    2016       1   \n",
       "25%                      9                0.6      85       0    2016       4   \n",
       "50%                      9                1.4     125       0    2016       7   \n",
       "75%                     10                2.9     199       1    2017      10   \n",
       "max                     10               19.2    1036       1    2017      12   \n",
       "\n",
       "          day  \n",
       "count 2157944  \n",
       "mean     15.8  \n",
       "std       8.8  \n",
       "min         1  \n",
       "25%         8  \n",
       "50%        16  \n",
       "75%        23  \n",
       "max        31  "
      ]
     },
     "execution_count": 16,
     "metadata": {},
     "output_type": "execute_result"
    }
   ],
   "source": [
    "df.describe()"
   ]
  },
  {
   "cell_type": "code",
   "execution_count": 17,
   "id": "ebc039ab-bb34-402f-8d8f-44bbb32922b2",
   "metadata": {},
   "outputs": [
    {
     "data": {
      "text/plain": [
       "neighbourhood_cleansed         0\n",
       "base_price                     0\n",
       "review_scores_rating           0\n",
       "review_scores_accuracy         0\n",
       "review_scores_cleanliness      0\n",
       "review_scores_checkin          0\n",
       "review_scores_communication    0\n",
       "review_scores_location         0\n",
       "review_scores_value            0\n",
       "reviews_per_month              0\n",
       "price                          0\n",
       "city                           0\n",
       "booked                         0\n",
       "year                           0\n",
       "month                          0\n",
       "day                            0\n",
       "dtype: int64"
      ]
     },
     "execution_count": 17,
     "metadata": {},
     "output_type": "execute_result"
    }
   ],
   "source": [
    "df.isnull().sum()"
   ]
  },
  {
   "cell_type": "code",
   "execution_count": null,
   "id": "e145c18a-616d-4e71-a3ec-1a37bb18b587",
   "metadata": {},
   "outputs": [],
   "source": []
  },
  {
   "cell_type": "code",
   "execution_count": null,
   "id": "2ceeb257-6f93-4a1d-8a99-bd034ca79a53",
   "metadata": {},
   "outputs": [],
   "source": []
  },
  {
   "cell_type": "code",
   "execution_count": null,
   "id": "b5a3a263-b899-421f-8892-319e87b8dda6",
   "metadata": {},
   "outputs": [],
   "source": []
  },
  {
   "cell_type": "code",
   "execution_count": null,
   "id": "1bc51c56-cbe8-496a-8c9f-770456dbc642",
   "metadata": {},
   "outputs": [],
   "source": []
  },
  {
   "cell_type": "markdown",
   "id": "0784d052-d9e1-4775-880f-490cc1748ddf",
   "metadata": {},
   "source": [
    "## Analyse the data"
   ]
  },
  {
   "cell_type": "code",
   "execution_count": 15,
   "id": "2758e236-50b8-48c2-b341-633e987ea1d5",
   "metadata": {},
   "outputs": [],
   "source": [
    "import seaborn as sns\n",
    "import matplotlib.pyplot as plt"
   ]
  },
  {
   "cell_type": "markdown",
   "id": "e8081328-ab56-47d2-8fc2-db6ce0da3180",
   "metadata": {},
   "source": [
    "> What is the price range monthly in each region in Boston and Seattle?"
   ]
  },
  {
   "cell_type": "code",
   "execution_count": 17,
   "id": "bc2f8ffb-e972-4680-8750-1968d944f982",
   "metadata": {},
   "outputs": [
    {
     "data": {
      "image/png": "[encoded data removed]",
      "text/plain": [
       "<Figure size 640x480 with 1 Axes>"
      ]
     },
     "metadata": {},
     "output_type": "display_data"
    }
   ],
   "source": [
    "plt.figure()\n",
    "sns.boxplot(data=df,x='month',y='price',hue='city', showfliers=False)\n",
    "plt.show()"
   ]
  },
  {
   "cell_type": "markdown",
   "id": "3efe3017-6fe9-4a1b-b0f7-0de7efc9b56f",
   "metadata": {},
   "source": [
    ">What is the most vibe time in each region in Boston and Seattle?"
   ]
  },
  {
   "cell_type": "code",
   "execution_count": 65,
   "id": "d8f08aa8-5b99-4601-8a6e-7024d2d68466",
   "metadata": {},
   "outputs": [],
   "source": [
    "grouped = df.groupby(by=['neighbourhood_cleansed', 'month']).booked.sum()/df.groupby(by=['neighbourhood_cleansed', 'month']).booked.count()*100"
   ]
  },
  {
   "cell_type": "code",
   "execution_count": 66,
   "id": "b488b9a1-9742-42fd-9cc6-f742b9617e65",
   "metadata": {},
   "outputs": [],
   "source": [
    "grouped = grouped.groupby(level=0).aggregate(['idxmax', 'max'])"
   ]
  },
  {
   "cell_type": "code",
   "execution_count": 67,
   "id": "3495886f-1b8f-4911-a22e-72a783543c59",
   "metadata": {},
   "outputs": [],
   "source": [
    "grouped['idxmax'] = grouped['idxmax'].apply(lambda x: x[1])"
   ]
  },
  {
   "cell_type": "code",
   "execution_count": 68,
   "id": "f42d06fe-0c6c-46aa-b4e6-ddf9a761d797",
   "metadata": {},
   "outputs": [
    {
     "data": {
      "text/html": [
       "<div>\n",
       "<style scoped>\n",
       "    .dataframe tbody tr th:only-of-type {\n",
       "        vertical-align: middle;\n",
       "    }\n",
       "\n",
       "    .dataframe tbody tr th {\n",
       "        vertical-align: top;\n",
       "    }\n",
       "\n",
       "    .dataframe thead th {\n",
       "        text-align: right;\n",
       "    }\n",
       "</style>\n",
       "<table border=\"1\" class=\"dataframe\">\n",
       "  <thead>\n",
       "    <tr style=\"text-align: right;\">\n",
       "      <th></th>\n",
       "      <th>idxmax</th>\n",
       "      <th>max</th>\n",
       "    </tr>\n",
       "    <tr>\n",
       "      <th>neighbourhood_cleansed</th>\n",
       "      <th></th>\n",
       "      <th></th>\n",
       "    </tr>\n",
       "  </thead>\n",
       "  <tbody>\n",
       "    <tr>\n",
       "      <th>Adams</th>\n",
       "      <td>7</td>\n",
       "      <td>41.765705</td>\n",
       "    </tr>\n",
       "    <tr>\n",
       "      <th>Alki</th>\n",
       "      <td>1</td>\n",
       "      <td>37.142857</td>\n",
       "    </tr>\n",
       "    <tr>\n",
       "      <th>Allston</th>\n",
       "      <td>9</td>\n",
       "      <td>80.018519</td>\n",
       "    </tr>\n",
       "    <tr>\n",
       "      <th>Arbor Heights</th>\n",
       "      <td>1</td>\n",
       "      <td>38.888889</td>\n",
       "    </tr>\n",
       "    <tr>\n",
       "      <th>Atlantic</th>\n",
       "      <td>1</td>\n",
       "      <td>51.984127</td>\n",
       "    </tr>\n",
       "    <tr>\n",
       "      <th>...</th>\n",
       "      <td>...</td>\n",
       "      <td>...</td>\n",
       "    </tr>\n",
       "    <tr>\n",
       "      <th>West Woodland</th>\n",
       "      <td>1</td>\n",
       "      <td>51.604938</td>\n",
       "    </tr>\n",
       "    <tr>\n",
       "      <th>Westlake</th>\n",
       "      <td>1</td>\n",
       "      <td>40.333333</td>\n",
       "    </tr>\n",
       "    <tr>\n",
       "      <th>Whittier Heights</th>\n",
       "      <td>1</td>\n",
       "      <td>47.083333</td>\n",
       "    </tr>\n",
       "    <tr>\n",
       "      <th>Windermere</th>\n",
       "      <td>7</td>\n",
       "      <td>55.299539</td>\n",
       "    </tr>\n",
       "    <tr>\n",
       "      <th>Yesler Terrace</th>\n",
       "      <td>6</td>\n",
       "      <td>38.333333</td>\n",
       "    </tr>\n",
       "  </tbody>\n",
       "</table>\n",
       "<p>111 rows × 2 columns</p>\n",
       "</div>"
      ],
      "text/plain": [
       "                        idxmax        max\n",
       "neighbourhood_cleansed                   \n",
       "Adams                        7  41.765705\n",
       "Alki                         1  37.142857\n",
       "Allston                      9  80.018519\n",
       "Arbor Heights                1  38.888889\n",
       "Atlantic                     1  51.984127\n",
       "...                        ...        ...\n",
       "West Woodland                1  51.604938\n",
       "Westlake                     1  40.333333\n",
       "Whittier Heights             1  47.083333\n",
       "Windermere                   7  55.299539\n",
       "Yesler Terrace               6  38.333333\n",
       "\n",
       "[111 rows x 2 columns]"
      ]
     },
     "execution_count": 68,
     "metadata": {},
     "output_type": "execute_result"
    }
   ],
   "source": [
    "grouped"
   ]
  },
  {
   "cell_type": "code",
   "execution_count": null,
   "id": "16d88c40-2ced-4e9d-b87b-5e77b46b2351",
   "metadata": {},
   "outputs": [],
   "source": []
  }
 ],
 "metadata": {
  "kernelspec": {
   "display_name": "Python 3 (ipykernel)",
   "language": "python",
   "name": "python3"
  },
  "language_info": {
   "codemirror_mode": {
    "name": "ipython",
    "version": 3
   },
   "file_extension": ".py",
   "mimetype": "text/x-python",
   "name": "python",
   "nbconvert_exporter": "python",
   "pygments_lexer": "ipython3",
   "version": "3.8.9"
  }
 },
 "nbformat": 4,
 "nbformat_minor": 5
}
